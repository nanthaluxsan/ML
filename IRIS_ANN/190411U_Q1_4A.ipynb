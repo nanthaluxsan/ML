{
  "cells": [
    {
      "cell_type": "code",
      "execution_count": 130,
      "metadata": {
        "colab": {
          "base_uri": "https://localhost:8080/",
          "height": 0
        },
        "id": "x4n56_2xFlVq",
        "outputId": "4476a2c1-182a-41b3-c1a7-d9ee9b1ecbf3"
      },
      "outputs": [
        {
          "output_type": "stream",
          "name": "stdout",
          "text": [
            "2.14.0\n"
          ]
        }
      ],
      "source": [
        "#TensorFlow\n",
        "import tensorflow as tf\n",
        "print(tf.__version__)"
      ]
    },
    {
      "cell_type": "markdown",
      "source": [
        "library download"
      ],
      "metadata": {
        "id": "JePWodxmUXDX"
      }
    },
    {
      "cell_type": "code",
      "execution_count": 131,
      "metadata": {
        "id": "zD-th5ZKN_M8"
      },
      "outputs": [],
      "source": [
        "import numpy as np\n",
        "import pandas as pd\n",
        "%matplotlib inline\n",
        "import matplotlib as mpl\n",
        "import matplotlib.pyplot as plt"
      ]
    },
    {
      "cell_type": "code",
      "source": [],
      "metadata": {
        "id": "Zltr9z-AUaCK"
      },
      "execution_count": 131,
      "outputs": []
    },
    {
      "cell_type": "code",
      "execution_count": 132,
      "metadata": {
        "id": "wQkbeurJN_M9"
      },
      "outputs": [],
      "source": [
        "import numpy as np\n",
        "from sklearn.model_selection import train_test_split\n",
        "from sklearn.datasets import load_iris\n",
        "from sklearn.preprocessing import StandardScaler\n",
        "from keras.models import Sequential\n",
        "from keras.layers import Dense\n",
        "from keras.utils import to_categorical\n",
        "from sklearn.metrics import accuracy_score, confusion_matrix, classification_report\n",
        "import itertools"
      ]
    },
    {
      "cell_type": "code",
      "execution_count": 133,
      "metadata": {
        "id": "J8h9Xby5N_M9"
      },
      "outputs": [],
      "source": [
        "\n",
        "iris = load_iris()"
      ]
    },
    {
      "cell_type": "code",
      "execution_count": 134,
      "metadata": {
        "colab": {
          "base_uri": "https://localhost:8080/",
          "height": 0
        },
        "id": "iUg44eTNN_M9",
        "outputId": "f4c6bcf3-0e10-4198-ed39-a704f1ca6d6c"
      },
      "outputs": [
        {
          "output_type": "execute_result",
          "data": {
            "text/plain": [
              "['sepal length (cm)',\n",
              " 'sepal width (cm)',\n",
              " 'petal length (cm)',\n",
              " 'petal width (cm)']"
            ]
          },
          "metadata": {},
          "execution_count": 134
        }
      ],
      "source": [
        "iris.feature_names"
      ]
    },
    {
      "cell_type": "code",
      "execution_count": 135,
      "metadata": {
        "colab": {
          "base_uri": "https://localhost:8080/",
          "height": 0
        },
        "id": "ogDv-KFLN_M-",
        "outputId": "8e66d67e-a4db-4bbe-bd11-fb29030f8767"
      },
      "outputs": [
        {
          "output_type": "execute_result",
          "data": {
            "text/plain": [
              "array([0, 0, 0, 0, 0, 0, 0, 0, 0, 0, 0, 0, 0, 0, 0, 0, 0, 0, 0, 0, 0, 0,\n",
              "       0, 0, 0, 0, 0, 0, 0, 0, 0, 0, 0, 0, 0, 0, 0, 0, 0, 0, 0, 0, 0, 0,\n",
              "       0, 0, 0, 0, 0, 0, 1, 1, 1, 1, 1, 1, 1, 1, 1, 1, 1, 1, 1, 1, 1, 1,\n",
              "       1, 1, 1, 1, 1, 1, 1, 1, 1, 1, 1, 1, 1, 1, 1, 1, 1, 1, 1, 1, 1, 1,\n",
              "       1, 1, 1, 1, 1, 1, 1, 1, 1, 1, 1, 1, 2, 2, 2, 2, 2, 2, 2, 2, 2, 2,\n",
              "       2, 2, 2, 2, 2, 2, 2, 2, 2, 2, 2, 2, 2, 2, 2, 2, 2, 2, 2, 2, 2, 2,\n",
              "       2, 2, 2, 2, 2, 2, 2, 2, 2, 2, 2, 2, 2, 2, 2, 2, 2, 2])"
            ]
          },
          "metadata": {},
          "execution_count": 135
        }
      ],
      "source": [
        "iris.target"
      ]
    },
    {
      "cell_type": "code",
      "execution_count": 136,
      "metadata": {
        "id": "yeKGRoWdN_M-"
      },
      "outputs": [],
      "source": [
        "x = iris.data\n",
        "y = iris.target"
      ]
    },
    {
      "cell_type": "code",
      "source": [],
      "metadata": {
        "id": "wXfexW5BUIFn"
      },
      "execution_count": 136,
      "outputs": []
    },
    {
      "cell_type": "code",
      "execution_count": 137,
      "metadata": {
        "id": "dS8RGIrwN_M-"
      },
      "outputs": [],
      "source": [
        "y_one_hot = to_categorical(y)"
      ]
    },
    {
      "cell_type": "code",
      "source": [],
      "metadata": {
        "id": "VlPGwdSgUIZ8"
      },
      "execution_count": 137,
      "outputs": []
    },
    {
      "cell_type": "code",
      "execution_count": 138,
      "metadata": {
        "colab": {
          "base_uri": "https://localhost:8080/",
          "height": 0
        },
        "id": "O6bk87MDN_M-",
        "outputId": "e5170540-39f8-4ed5-d4ad-f22873691767"
      },
      "outputs": [
        {
          "output_type": "execute_result",
          "data": {
            "text/plain": [
              "(150, 4)"
            ]
          },
          "metadata": {},
          "execution_count": 138
        }
      ],
      "source": [
        "x.shape"
      ]
    },
    {
      "cell_type": "code",
      "execution_count": 139,
      "metadata": {
        "id": "JeFmMmvYN_M_"
      },
      "outputs": [],
      "source": [
        "x_train, x_test, y_train, y_test = train_test_split(iris.data,y_one_hot, test_size=0.2, random_state=42)\n"
      ]
    },
    {
      "cell_type": "code",
      "execution_count": 140,
      "metadata": {
        "id": "4w9RJ73CN_M_"
      },
      "outputs": [],
      "source": [
        "scaler = StandardScaler()\n",
        "x_train_scaled = scaler.fit_transform(x_train)\n",
        "x_test_scaled = scaler.transform(x_test)"
      ]
    },
    {
      "cell_type": "code",
      "execution_count": 141,
      "metadata": {
        "id": "7ii3Bs4yN_M_"
      },
      "outputs": [],
      "source": [
        "model = Sequential() #model design\n",
        "model.add(Dense(4, input_dim=x_train_scaled.shape[1], activation='relu'))\n",
        "model.add(Dense(20, activation='relu'))\n",
        "model.add(Dense(3, activation='softmax'))"
      ]
    },
    {
      "cell_type": "code",
      "source": [],
      "metadata": {
        "id": "Sac15X5tUGO8"
      },
      "execution_count": 141,
      "outputs": []
    },
    {
      "cell_type": "code",
      "execution_count": 142,
      "metadata": {
        "id": "NA4nm1QLN_M_"
      },
      "outputs": [],
      "source": [
        "model.compile(optimizer='adam', loss='categorical_crossentropy', metrics=['accuracy']) #combile"
      ]
    },
    {
      "cell_type": "code",
      "execution_count": 143,
      "metadata": {
        "colab": {
          "base_uri": "https://localhost:8080/",
          "height": 0
        },
        "id": "2chg9aFoN_NA",
        "outputId": "16ab1cfa-de34-4945-9ddf-104175a4af54"
      },
      "outputs": [
        {
          "output_type": "stream",
          "name": "stdout",
          "text": [
            "Epoch 1/20\n",
            "30/30 [==============================] - 1s 9ms/step - loss: 1.0542 - accuracy: 0.3500 - val_loss: 1.0169 - val_accuracy: 0.5000\n",
            "Epoch 2/20\n",
            "30/30 [==============================] - 0s 3ms/step - loss: 0.9691 - accuracy: 0.5500 - val_loss: 0.9219 - val_accuracy: 0.6333\n",
            "Epoch 3/20\n",
            "30/30 [==============================] - 0s 3ms/step - loss: 0.8857 - accuracy: 0.7417 - val_loss: 0.8154 - val_accuracy: 0.8000\n",
            "Epoch 4/20\n",
            "30/30 [==============================] - 0s 3ms/step - loss: 0.7912 - accuracy: 0.7667 - val_loss: 0.7166 - val_accuracy: 0.8333\n",
            "Epoch 5/20\n",
            "30/30 [==============================] - 0s 3ms/step - loss: 0.7011 - accuracy: 0.7583 - val_loss: 0.6246 - val_accuracy: 0.8333\n",
            "Epoch 6/20\n",
            "30/30 [==============================] - 0s 3ms/step - loss: 0.6179 - accuracy: 0.7583 - val_loss: 0.5590 - val_accuracy: 0.8333\n",
            "Epoch 7/20\n",
            "30/30 [==============================] - 0s 4ms/step - loss: 0.5540 - accuracy: 0.7667 - val_loss: 0.5042 - val_accuracy: 0.8000\n",
            "Epoch 8/20\n",
            "30/30 [==============================] - 0s 7ms/step - loss: 0.5053 - accuracy: 0.7667 - val_loss: 0.4672 - val_accuracy: 0.8000\n",
            "Epoch 9/20\n",
            "30/30 [==============================] - 0s 5ms/step - loss: 0.4712 - accuracy: 0.7833 - val_loss: 0.4406 - val_accuracy: 0.8333\n",
            "Epoch 10/20\n",
            "30/30 [==============================] - 0s 5ms/step - loss: 0.4433 - accuracy: 0.7917 - val_loss: 0.4166 - val_accuracy: 0.8333\n",
            "Epoch 11/20\n",
            "30/30 [==============================] - 0s 5ms/step - loss: 0.4215 - accuracy: 0.8250 - val_loss: 0.3991 - val_accuracy: 0.8333\n",
            "Epoch 12/20\n",
            "30/30 [==============================] - 0s 6ms/step - loss: 0.4011 - accuracy: 0.8250 - val_loss: 0.3804 - val_accuracy: 0.8333\n",
            "Epoch 13/20\n",
            "30/30 [==============================] - 0s 5ms/step - loss: 0.3858 - accuracy: 0.8417 - val_loss: 0.3607 - val_accuracy: 0.8333\n",
            "Epoch 14/20\n",
            "30/30 [==============================] - 0s 5ms/step - loss: 0.3703 - accuracy: 0.8417 - val_loss: 0.3435 - val_accuracy: 0.8667\n",
            "Epoch 15/20\n",
            "30/30 [==============================] - 0s 4ms/step - loss: 0.3567 - accuracy: 0.8417 - val_loss: 0.3285 - val_accuracy: 0.8667\n",
            "Epoch 16/20\n",
            "30/30 [==============================] - 0s 4ms/step - loss: 0.3445 - accuracy: 0.8500 - val_loss: 0.3157 - val_accuracy: 0.8667\n",
            "Epoch 17/20\n",
            "30/30 [==============================] - 0s 6ms/step - loss: 0.3319 - accuracy: 0.8500 - val_loss: 0.3040 - val_accuracy: 0.8667\n",
            "Epoch 18/20\n",
            "30/30 [==============================] - 0s 4ms/step - loss: 0.3229 - accuracy: 0.8500 - val_loss: 0.2917 - val_accuracy: 0.8667\n",
            "Epoch 19/20\n",
            "30/30 [==============================] - 0s 4ms/step - loss: 0.3135 - accuracy: 0.8500 - val_loss: 0.2796 - val_accuracy: 0.8667\n",
            "Epoch 20/20\n",
            "30/30 [==============================] - 0s 5ms/step - loss: 0.3070 - accuracy: 0.8500 - val_loss: 0.2708 - val_accuracy: 0.8667\n"
          ]
        }
      ],
      "source": [
        "model_history = model.fit(x_train_scaled, y_train,validation_data=(x_test_scaled, y_test), epochs=20,batch_size=4) #train the model"
      ]
    },
    {
      "cell_type": "code",
      "execution_count": 144,
      "metadata": {
        "colab": {
          "base_uri": "https://localhost:8080/",
          "height": 0
        },
        "id": "Ro2kMQVkN_NA",
        "outputId": "ee50d9a6-4fc7-437e-ba81-0010db025f34"
      },
      "outputs": [
        {
          "output_type": "stream",
          "name": "stdout",
          "text": [
            "1/1 [==============================] - 0s 60ms/step\n"
          ]
        }
      ],
      "source": [
        "y_pred_prob = model.predict(x_test_scaled) #model prediction\n",
        "y_pred = np.argmax(y_pred_prob, axis=1)"
      ]
    },
    {
      "cell_type": "code",
      "execution_count": 145,
      "metadata": {
        "id": "Bp4h0gY8N_NA"
      },
      "outputs": [],
      "source": [
        "#accyracy finding\n",
        "accuracy = accuracy_score(np.argmax(y_test, axis=1), y_pred)\n",
        "conf_matrix = confusion_matrix(np.argmax(y_test, axis=1), y_pred)\n",
        "classification_rep = classification_report(np.argmax(y_test, axis=1), y_pred)"
      ]
    },
    {
      "cell_type": "code",
      "execution_count": 146,
      "metadata": {
        "colab": {
          "base_uri": "https://localhost:8080/",
          "height": 0
        },
        "id": "kg5oWDKRN_NA",
        "outputId": "541e01e0-861a-4880-a1ac-61646307c5e5"
      },
      "outputs": [
        {
          "output_type": "execute_result",
          "data": {
            "text/plain": [
              "array([[10,  0,  0],\n",
              "       [ 0,  5,  4],\n",
              "       [ 0,  0, 11]])"
            ]
          },
          "metadata": {},
          "execution_count": 146
        }
      ],
      "source": [
        "conf_matrix #confusion matrix"
      ]
    },
    {
      "cell_type": "code",
      "execution_count": 147,
      "metadata": {
        "colab": {
          "base_uri": "https://localhost:8080/",
          "height": 0
        },
        "id": "pEtYsupaHDU8",
        "outputId": "289d9eaa-cee0-4af7-c2df-7fe14e474ba6"
      },
      "outputs": [
        {
          "output_type": "stream",
          "name": "stdout",
          "text": [
            "1/1 [==============================] - 0s 25ms/step - loss: 0.2708 - accuracy: 0.8667\n",
            "[0.2707752585411072, 0.8666666746139526]\n"
          ]
        }
      ],
      "source": [
        "#evaluate model\n",
        "print(model.evaluate(x_test_scaled, y_test))"
      ]
    },
    {
      "cell_type": "code",
      "execution_count": 148,
      "metadata": {
        "colab": {
          "base_uri": "https://localhost:8080/",
          "height": 541
        },
        "id": "hn7AmMw2HUsx",
        "outputId": "e2de684a-8741-4c41-b7d6-25737d32f4fd"
      },
      "outputs": [
        {
          "output_type": "stream",
          "name": "stdout",
          "text": [
            "Confusion matrix, without normalisation\n"
          ]
        },
        {
          "output_type": "display_data",
          "data": {
            "text/plain": [
              "<Figure size 640x480 with 2 Axes>"
            ],
            "image/png": "[encoded data removed]"
          },
          "metadata": {}
        },
        {
          "output_type": "display_data",
          "data": {
            "text/plain": [
              "<Figure size 400x400 with 0 Axes>"
            ]
          },
          "metadata": {}
        }
      ],
      "source": [
        "#plot confusion matrix\n",
        "\n",
        "def plot_confusion_matrix(cm, classes, normalize=False,\n",
        "                          title='Confusion matrix',\n",
        "                          cmap=plt.cm.Blues):\n",
        "  if normalize:\n",
        "    cm = cm.astype('float') / cm.sum(axis=1)[:, np.newaxis]\n",
        "    print(\"Normalised confusion matrix\")\n",
        "  else:\n",
        "    print(\"Confusion matrix, without normalisation\")\n",
        "\n",
        "\n",
        "  plt.imshow(cm, interpolation='nearest', cmap=cmap)\n",
        "  plt.title(title)\n",
        "  plt.colorbar()\n",
        "  tick_marks = np.arange(len(classes))\n",
        "  plt.xticks(tick_marks, classes, rotation=45)\n",
        "  plt.yticks(tick_marks, classes)\n",
        "\n",
        "  fmt = '.2f' if normalize else 'd'\n",
        "  thresh = cm.max()/2.\n",
        "  for i,j in itertools.product(range(cm.shape[0]), range(cm.shape[1])):\n",
        "    plt.text(j,i, format(cm[i,j], fmt),\n",
        "        horizontalalignment='center',\n",
        "        color=\"white\" if cm[i, j] > thresh else \"black\")\n",
        "\n",
        "\n",
        "plot_confusion_matrix(conf_matrix, list(range(3)))\n",
        "plt.tight_layout()\n",
        "plt.ylabel('True label')\n",
        "plt.xlabel('Predicted label')\n",
        "plt.figure(figsize=(4, 4))\n",
        "plt.show()"
      ]
    },
    {
      "cell_type": "code",
      "execution_count": 149,
      "metadata": {
        "colab": {
          "base_uri": "https://localhost:8080/",
          "height": 0
        },
        "id": "PyMh2ki6N_NB",
        "outputId": "a28a7a2d-7b9a-4ec0-a56e-2dd2fe46db66"
      },
      "outputs": [
        {
          "output_type": "stream",
          "name": "stdout",
          "text": [
            "Accuracy: 0.8666666666666667\n",
            "\n",
            "Classification Report:\n",
            "              precision    recall  f1-score   support\n",
            "\n",
            "           0       1.00      1.00      1.00        10\n",
            "           1       1.00      0.56      0.71         9\n",
            "           2       0.73      1.00      0.85        11\n",
            "\n",
            "    accuracy                           0.87        30\n",
            "   macro avg       0.91      0.85      0.85        30\n",
            "weighted avg       0.90      0.87      0.86        30\n",
            "\n"
          ]
        }
      ],
      "source": [
        "print(f\"Accuracy: {accuracy}\")\n",
        "print(\"\\nClassification Report:\")\n",
        "print(classification_rep)"
      ]
    },
    {
      "cell_type": "code",
      "source": [],
      "metadata": {
        "id": "Z2uaQRZDWOIA"
      },
      "execution_count": 149,
      "outputs": []
    },
    {
      "cell_type": "code",
      "execution_count": 150,
      "metadata": {
        "colab": {
          "base_uri": "https://localhost:8080/",
          "height": 451
        },
        "id": "Nqzmr-GdN_NB",
        "outputId": "3ef7d9d4-3414-414c-8919-1e566b7b6b65"
      },
      "outputs": [
        {
          "output_type": "display_data",
          "data": {
            "text/plain": [
              "<Figure size 800x500 with 1 Axes>"
            ],
            "image/png": "[encoded data removed]"
          },
          "metadata": {}
        }
      ],
      "source": [
        "pd.DataFrame(model_history.history).plot(figsize=(8, 5))\n",
        "plt.grid(True)\n",
        "plt.gca().set_ylim(0, 1)\n",
        "plt.show()\n"
      ]
    },
    {
      "cell_type": "code",
      "execution_count": 151,
      "metadata": {
        "colab": {
          "base_uri": "https://localhost:8080/",
          "height": 0
        },
        "id": "i5H4ZnTzN_NB",
        "outputId": "94913669-91d6-4f00-93ba-9b355b6f7630"
      },
      "outputs": [
        {
          "output_type": "execute_result",
          "data": {
            "text/plain": [
              "array([1, 0, 2, 1, 1, 0, 1, 2, 1, 1, 2, 0, 0, 0, 0, 1, 2, 1, 1, 2, 0, 2,\n",
              "       0, 2, 2, 2, 2, 2, 0, 0])"
            ]
          },
          "metadata": {},
          "execution_count": 151
        }
      ],
      "source": [
        "np.argmax(y_test, axis=1)"
      ]
    },
    {
      "cell_type": "code",
      "execution_count": 152,
      "metadata": {
        "id": "cCDv_W1dN_NC"
      },
      "outputs": [],
      "source": [
        "flow=[\"Iris-Setosa\",\"Iris-Versicolour\",\"Iris-Virginica\"]"
      ]
    },
    {
      "cell_type": "code",
      "execution_count": 153,
      "metadata": {
        "id": "sZB9M6jTN_NC"
      },
      "outputs": [],
      "source": [
        "flow_test=[]\n",
        "for i in np.argmax(y_test, axis=1):\n",
        "    flow_test.append(flow[i])"
      ]
    },
    {
      "cell_type": "code",
      "execution_count": 154,
      "metadata": {
        "id": "ChKaAfmpN_NC"
      },
      "outputs": [],
      "source": [
        "flow_pred=[]\n",
        "for j in y_pred:\n",
        "    flow_pred.append(flow[j])"
      ]
    },
    {
      "cell_type": "code",
      "execution_count": 155,
      "metadata": {
        "colab": {
          "base_uri": "https://localhost:8080/",
          "height": 0
        },
        "id": "3Ke67yPrN_NC",
        "outputId": "915f164e-db62-48cc-e4c6-02d3b0a686ec"
      },
      "outputs": [
        {
          "output_type": "execute_result",
          "data": {
            "text/plain": [
              "['Iris-Virginica',\n",
              " 'Iris-Setosa',\n",
              " 'Iris-Virginica',\n",
              " 'Iris-Virginica',\n",
              " 'Iris-Virginica',\n",
              " 'Iris-Setosa',\n",
              " 'Iris-Versicolour',\n",
              " 'Iris-Virginica',\n",
              " 'Iris-Versicolour',\n",
              " 'Iris-Versicolour',\n",
              " 'Iris-Virginica',\n",
              " 'Iris-Setosa',\n",
              " 'Iris-Setosa',\n",
              " 'Iris-Setosa',\n",
              " 'Iris-Setosa',\n",
              " 'Iris-Virginica',\n",
              " 'Iris-Virginica',\n",
              " 'Iris-Versicolour',\n",
              " 'Iris-Versicolour',\n",
              " 'Iris-Virginica',\n",
              " 'Iris-Setosa',\n",
              " 'Iris-Virginica',\n",
              " 'Iris-Setosa',\n",
              " 'Iris-Virginica',\n",
              " 'Iris-Virginica',\n",
              " 'Iris-Virginica',\n",
              " 'Iris-Virginica',\n",
              " 'Iris-Virginica',\n",
              " 'Iris-Setosa',\n",
              " 'Iris-Setosa']"
            ]
          },
          "metadata": {},
          "execution_count": 155
        }
      ],
      "source": [
        "flow_pred"
      ]
    },
    {
      "cell_type": "code",
      "execution_count": 156,
      "metadata": {
        "colab": {
          "base_uri": "https://localhost:8080/",
          "height": 0
        },
        "id": "t5fBovvpN_NC",
        "outputId": "f8337d9c-dbcb-48ea-d220-3de08df8e151"
      },
      "outputs": [
        {
          "output_type": "execute_result",
          "data": {
            "text/plain": [
              "['Iris-Versicolour',\n",
              " 'Iris-Setosa',\n",
              " 'Iris-Virginica',\n",
              " 'Iris-Versicolour',\n",
              " 'Iris-Versicolour',\n",
              " 'Iris-Setosa',\n",
              " 'Iris-Versicolour',\n",
              " 'Iris-Virginica',\n",
              " 'Iris-Versicolour',\n",
              " 'Iris-Versicolour',\n",
              " 'Iris-Virginica',\n",
              " 'Iris-Setosa',\n",
              " 'Iris-Setosa',\n",
              " 'Iris-Setosa',\n",
              " 'Iris-Setosa',\n",
              " 'Iris-Versicolour',\n",
              " 'Iris-Virginica',\n",
              " 'Iris-Versicolour',\n",
              " 'Iris-Versicolour',\n",
              " 'Iris-Virginica',\n",
              " 'Iris-Setosa',\n",
              " 'Iris-Virginica',\n",
              " 'Iris-Setosa',\n",
              " 'Iris-Virginica',\n",
              " 'Iris-Virginica',\n",
              " 'Iris-Virginica',\n",
              " 'Iris-Virginica',\n",
              " 'Iris-Virginica',\n",
              " 'Iris-Setosa',\n",
              " 'Iris-Setosa']"
            ]
          },
          "metadata": {},
          "execution_count": 156
        }
      ],
      "source": [
        "flow_test"
      ]
    },
    {
      "cell_type": "code",
      "source": [
        "import matplotlib.pyplot as plt\n",
        "plt.plot(model_history.history['loss'], label='loss')\n",
        "plt.plot(model_history.history['val_loss'], label='val_loss')\n",
        "plt.figure(figsize=(4, 6))"
      ],
      "metadata": {
        "colab": {
          "base_uri": "https://localhost:8080/",
          "height": 465
        },
        "id": "EKIOLrdNwZJD",
        "outputId": "85b4fe77-0eb8-4454-c3a5-81ac71188908"
      },
      "execution_count": 161,
      "outputs": [
        {
          "output_type": "execute_result",
          "data": {
            "text/plain": [
              "<Figure size 400x600 with 0 Axes>"
            ]
          },
          "metadata": {},
          "execution_count": 161
        },
        {
          "output_type": "display_data",
          "data": {
            "text/plain": [
              "<Figure size 640x480 with 1 Axes>"
            ],
            "image/png": "[encoded data removed]"
          },
          "metadata": {}
        },
        {
          "output_type": "display_data",
          "data": {
            "text/plain": [
              "<Figure size 400x600 with 0 Axes>"
            ]
          },
          "metadata": {}
        }
      ]
    },
    {
      "cell_type": "code",
      "source": [
        "plt.plot(model_history.history['accuracy'], label='accuracy')\n",
        "plt.plot(model_history.history['val_accuracy'], label='val_accuracy')\n",
        "plt.legend()\n",
        "plt.figure(figsize=(4, 6))"
      ],
      "metadata": {
        "colab": {
          "base_uri": "https://localhost:8080/",
          "height": 465
        },
        "id": "N0SdS_tNwk4l",
        "outputId": "480bb8f2-75a4-498b-f094-4f7f15d86701"
      },
      "execution_count": 160,
      "outputs": [
        {
          "output_type": "execute_result",
          "data": {
            "text/plain": [
              "<Figure size 400x600 with 0 Axes>"
            ]
          },
          "metadata": {},
          "execution_count": 160
        },
        {
          "output_type": "display_data",
          "data": {
            "text/plain": [
              "<Figure size 640x480 with 1 Axes>"
            ],
            "image/png": "[encoded data removed]"
          },
          "metadata": {}
        },
        {
          "output_type": "display_data",
          "data": {
            "text/plain": [
              "<Figure size 400x600 with 0 Axes>"
            ]
          },
          "metadata": {}
        }
      ]
    }
  ],
  "metadata": {
    "accelerator": "TPU",
    "colab": {
      "provenance": []
    },
    "gpuClass": "standard",
    "kernelspec": {
      "display_name": "Python 3",
      "name": "python3"
    },
    "language_info": {
      "codemirror_mode": {
        "name": "ipython",
        "version": 3
      },
      "file_extension": ".py",
      "mimetype": "text/x-python",
      "name": "python",
      "nbconvert_exporter": "python",
      "pygments_lexer": "ipython3",
      "version": "3.9.7"
    }
  },
  "nbformat": 4,
  "nbformat_minor": 0
}